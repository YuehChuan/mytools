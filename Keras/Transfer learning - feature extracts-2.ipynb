{
 "cells": [
  {
   "cell_type": "code",
   "execution_count": 1,
   "metadata": {},
   "outputs": [],
   "source": [
    "import os\n",
    "os.environ[\"CUDA_DEVICE_ORDER\"]=\"PCI_BUS_ID\"\n",
    "os.environ[\"CUDA_VISIBLE_DEVICES\"] = \"1\"  #use 2080Ti\n"
   ]
  },
  {
   "cell_type": "code",
   "execution_count": 14,
   "metadata": {},
   "outputs": [],
   "source": [
    "from keras.applications import VGG16\n",
    "from keras import models\n",
    "from keras import layers\n",
    "from keras.layers.normalization import BatchNormalization\n",
    "\n",
    "\n",
    "cnn_base = VGG16(weights='imagenet',\n",
    "                  include_top=False,\n",
    "                  input_shape=(224, 224, 3))\n",
    "\n",
    "#cnn_base.trainable = False\n",
    "for layer in cnn_base.layers:\n",
    "   layer.trainable = False\n",
    "\n",
    "classify = models.Sequential()\n",
    "classify.add(BatchNormalization())\n",
    "classify.add(layers.Flatten())\n",
    "classify.add(layers.Dense(512, activation='relu'))\n",
    "classify.add(layers.Dropout(0.5))\n",
    "classify.add(layers.Dense(10, activation='sigmoid'))\n"
   ]
  },
  {
   "cell_type": "code",
   "execution_count": 15,
   "metadata": {},
   "outputs": [
    {
     "name": "stdout",
     "output_type": "stream",
     "text": [
      "_________________________________________________________________\n",
      "Layer (type)                 Output Shape              Param #   \n",
      "=================================================================\n",
      "input_3 (InputLayer)         (None, 224, 224, 3)       0         \n",
      "_________________________________________________________________\n",
      "block1_conv1 (Conv2D)        (None, 224, 224, 64)      1792      \n",
      "_________________________________________________________________\n",
      "block1_conv2 (Conv2D)        (None, 224, 224, 64)      36928     \n",
      "_________________________________________________________________\n",
      "block1_pool (MaxPooling2D)   (None, 112, 112, 64)      0         \n",
      "_________________________________________________________________\n",
      "block2_conv1 (Conv2D)        (None, 112, 112, 128)     73856     \n",
      "_________________________________________________________________\n",
      "block2_conv2 (Conv2D)        (None, 112, 112, 128)     147584    \n",
      "_________________________________________________________________\n",
      "block2_pool (MaxPooling2D)   (None, 56, 56, 128)       0         \n",
      "_________________________________________________________________\n",
      "block3_conv1 (Conv2D)        (None, 56, 56, 256)       295168    \n",
      "_________________________________________________________________\n",
      "block3_conv2 (Conv2D)        (None, 56, 56, 256)       590080    \n",
      "_________________________________________________________________\n",
      "block3_conv3 (Conv2D)        (None, 56, 56, 256)       590080    \n",
      "_________________________________________________________________\n",
      "block3_pool (MaxPooling2D)   (None, 28, 28, 256)       0         \n",
      "_________________________________________________________________\n",
      "block4_conv1 (Conv2D)        (None, 28, 28, 512)       1180160   \n",
      "_________________________________________________________________\n",
      "block4_conv2 (Conv2D)        (None, 28, 28, 512)       2359808   \n",
      "_________________________________________________________________\n",
      "block4_conv3 (Conv2D)        (None, 28, 28, 512)       2359808   \n",
      "_________________________________________________________________\n",
      "block4_pool (MaxPooling2D)   (None, 14, 14, 512)       0         \n",
      "_________________________________________________________________\n",
      "block5_conv1 (Conv2D)        (None, 14, 14, 512)       2359808   \n",
      "_________________________________________________________________\n",
      "block5_conv2 (Conv2D)        (None, 14, 14, 512)       2359808   \n",
      "_________________________________________________________________\n",
      "block5_conv3 (Conv2D)        (None, 14, 14, 512)       2359808   \n",
      "_________________________________________________________________\n",
      "block5_pool (MaxPooling2D)   (None, 7, 7, 512)         0         \n",
      "=================================================================\n",
      "Total params: 14,714,688\n",
      "Trainable params: 0\n",
      "Non-trainable params: 14,714,688\n",
      "_________________________________________________________________\n",
      "_________________________________________________________________\n",
      "Layer (type)                 Output Shape              Param #   \n",
      "=================================================================\n",
      "batch_normalization_3 (Batch (None, 7, 7, 512)         2048      \n",
      "_________________________________________________________________\n",
      "flatten_3 (Flatten)          (None, 25088)             0         \n",
      "_________________________________________________________________\n",
      "dense_5 (Dense)              (None, 512)               12845568  \n",
      "_________________________________________________________________\n",
      "dropout_3 (Dropout)          (None, 512)               0         \n",
      "_________________________________________________________________\n",
      "dense_6 (Dense)              (None, 10)                5130      \n",
      "=================================================================\n",
      "Total params: 12,852,746\n",
      "Trainable params: 12,851,722\n",
      "Non-trainable params: 1,024\n",
      "_________________________________________________________________\n",
      "_________________________________________________________________\n",
      "Layer (type)                 Output Shape              Param #   \n",
      "=================================================================\n",
      "vgg16 (Model)                (None, 7, 7, 512)         14714688  \n",
      "_________________________________________________________________\n",
      "sequential_5 (Sequential)    (None, 10)                12852746  \n",
      "=================================================================\n",
      "Total params: 27,567,434\n",
      "Trainable params: 12,851,722\n",
      "Non-trainable params: 14,715,712\n",
      "_________________________________________________________________\n"
     ]
    }
   ],
   "source": [
    "model = models.Sequential()\n",
    "model.add(cnn_base)\n",
    "model.add(classify)\n",
    "cnn_base.summary()\n",
    "classify.summary()\n",
    "model.summary()"
   ]
  },
  {
   "cell_type": "code",
   "execution_count": 16,
   "metadata": {},
   "outputs": [],
   "source": [
    "base_dir = 'dataset-diabnext'\n",
    "\n",
    "train_dir = os.path.join(base_dir, 'train')\n",
    "validation_dir = os.path.join(base_dir, 'valid')\n",
    "test_dir = os.path.join(base_dir, 'test')"
   ]
  },
  {
   "cell_type": "code",
   "execution_count": 17,
   "metadata": {
    "scrolled": true
   },
   "outputs": [
    {
     "name": "stdout",
     "output_type": "stream",
     "text": [
      "Found 1140 images belonging to 10 classes.\n",
      "Found 370 images belonging to 10 classes.\n"
     ]
    }
   ],
   "source": [
    "from keras.preprocessing.image import ImageDataGenerator\n",
    "from keras import optimizers\n",
    "\n",
    "# All images will be rescaled by 1./255\n",
    "train_datagen = ImageDataGenerator(\n",
    "        rescale=1./255,\n",
    "        rotation_range = 30,\n",
    "        width_shift_range = 0.3,\n",
    "        height_shift_range = 0.3,\n",
    "        shear_range = 0.3,\n",
    "        zoom_range = 0.4,\n",
    "        channel_shift_range = 0.2,\n",
    "        fill_mode = 'nearest',\n",
    "        horizontal_flip = True,\n",
    "        vertical_flip = False,    \n",
    ")\n",
    "test_datagen = ImageDataGenerator(\n",
    "        rescale=1./255,\n",
    "        rotation_range = 30,\n",
    "        width_shift_range = 0.3,\n",
    "        height_shift_range = 0.3,\n",
    "        shear_range = 0.3,\n",
    "        zoom_range = 0.4,\n",
    "        channel_shift_range = 0.2,\n",
    "        fill_mode = 'nearest',\n",
    "        horizontal_flip = True,\n",
    "        vertical_flip = False,  \n",
    ")\n",
    "\n",
    "train_generator = train_datagen.flow_from_directory(\n",
    "        # This is the target directory\n",
    "        train_dir,\n",
    "        # All images will be resized to 150x150\n",
    "        target_size=(224, 224),\n",
    "        batch_size=10,\n",
    "        class_mode='categorical')\n",
    "\n",
    "validation_generator = test_datagen.flow_from_directory(\n",
    "        validation_dir,\n",
    "        target_size=(224, 224),\n",
    "        batch_size=10,  \n",
    "        class_mode='categorical')"
   ]
  },
  {
   "cell_type": "code",
   "execution_count": 18,
   "metadata": {
    "scrolled": false
   },
   "outputs": [
    {
     "name": "stdout",
     "output_type": "stream",
     "text": [
      "Epoch 1/50\n",
      " 8/60 [===>..........................] - ETA: 13s - loss: 2.5108 - acc: 0.1250"
     ]
    },
    {
     "name": "stderr",
     "output_type": "stream",
     "text": [
      "/home/chtseng/envs/AI/lib/python3.6/site-packages/PIL/Image.py:993: UserWarning: Palette images with Transparency expressed in bytes should be converted to RGBA images\n",
      "  \"Palette images with Transparency expressed in bytes should be \"\n"
     ]
    },
    {
     "name": "stdout",
     "output_type": "stream",
     "text": [
      "59/60 [============================>.] - ETA: 0s - loss: 2.3725 - acc: 0.1390"
     ]
    },
    {
     "name": "stderr",
     "output_type": "stream",
     "text": [
      "/home/chtseng/envs/AI/lib/python3.6/site-packages/PIL/TiffImagePlugin.py:804: UserWarning: Corrupt EXIF data.  Expecting to read 4 bytes but only got 0. \n",
      "  warnings.warn(str(msg))\n"
     ]
    },
    {
     "name": "stdout",
     "output_type": "stream",
     "text": [
      "60/60 [==============================] - 23s 389ms/step - loss: 2.3698 - acc: 0.1400 - val_loss: 2.2029 - val_acc: 0.2133\n",
      "Epoch 2/50\n",
      "60/60 [==============================] - 21s 351ms/step - loss: 2.3139 - acc: 0.1883 - val_loss: 2.1149 - val_acc: 0.3050\n",
      "Epoch 3/50\n",
      "60/60 [==============================] - 21s 347ms/step - loss: 2.1794 - acc: 0.2433 - val_loss: 2.0444 - val_acc: 0.3283\n",
      "Epoch 4/50\n",
      "60/60 [==============================] - 21s 350ms/step - loss: 2.1093 - acc: 0.2767 - val_loss: 1.9812 - val_acc: 0.3900\n",
      "Epoch 5/50\n",
      "60/60 [==============================] - 21s 351ms/step - loss: 2.0597 - acc: 0.3133 - val_loss: 1.9357 - val_acc: 0.4050\n",
      "Epoch 6/50\n",
      "60/60 [==============================] - 21s 348ms/step - loss: 1.9486 - acc: 0.3483 - val_loss: 1.8269 - val_acc: 0.4483\n",
      "Epoch 7/50\n",
      "60/60 [==============================] - 21s 352ms/step - loss: 1.8753 - acc: 0.3783 - val_loss: 1.7906 - val_acc: 0.4667\n",
      "Epoch 8/50\n",
      "60/60 [==============================] - 21s 350ms/step - loss: 1.8367 - acc: 0.3800 - val_loss: 1.7107 - val_acc: 0.4583\n",
      "Epoch 9/50\n",
      "60/60 [==============================] - 22s 361ms/step - loss: 1.7735 - acc: 0.4400 - val_loss: 1.6297 - val_acc: 0.4917\n",
      "Epoch 10/50\n",
      "60/60 [==============================] - 21s 358ms/step - loss: 1.7651 - acc: 0.4117 - val_loss: 1.6538 - val_acc: 0.4550\n",
      "Epoch 11/50\n",
      "60/60 [==============================] - 20s 341ms/step - loss: 1.7103 - acc: 0.4533 - val_loss: 1.5976 - val_acc: 0.5233\n",
      "Epoch 12/50\n",
      "60/60 [==============================] - 22s 366ms/step - loss: 1.7331 - acc: 0.4517 - val_loss: 1.5608 - val_acc: 0.4900\n",
      "Epoch 13/50\n",
      "60/60 [==============================] - 20s 332ms/step - loss: 1.6240 - acc: 0.4617 - val_loss: 1.5694 - val_acc: 0.5083\n",
      "Epoch 14/50\n",
      "60/60 [==============================] - 21s 346ms/step - loss: 1.6253 - acc: 0.4783 - val_loss: 1.5316 - val_acc: 0.5267\n",
      "Epoch 15/50\n",
      "60/60 [==============================] - 21s 358ms/step - loss: 1.5684 - acc: 0.4633 - val_loss: 1.5651 - val_acc: 0.5400\n",
      "Epoch 16/50\n",
      "60/60 [==============================] - 21s 349ms/step - loss: 1.5875 - acc: 0.4633 - val_loss: 1.4561 - val_acc: 0.5683\n",
      "Epoch 17/50\n",
      "60/60 [==============================] - 22s 361ms/step - loss: 1.6385 - acc: 0.4517 - val_loss: 1.4559 - val_acc: 0.5550\n",
      "Epoch 18/50\n",
      "60/60 [==============================] - 21s 342ms/step - loss: 1.5270 - acc: 0.5167 - val_loss: 1.4672 - val_acc: 0.5433\n",
      "Epoch 19/50\n",
      "60/60 [==============================] - 21s 350ms/step - loss: 1.5151 - acc: 0.5283 - val_loss: 1.4341 - val_acc: 0.5450\n",
      "Epoch 20/50\n",
      "60/60 [==============================] - 21s 353ms/step - loss: 1.4387 - acc: 0.5367 - val_loss: 1.4470 - val_acc: 0.5483\n",
      "Epoch 21/50\n",
      "60/60 [==============================] - 21s 352ms/step - loss: 1.4968 - acc: 0.5300 - val_loss: 1.4114 - val_acc: 0.5617\n",
      "Epoch 22/50\n",
      "60/60 [==============================] - 22s 363ms/step - loss: 1.4354 - acc: 0.5383 - val_loss: 1.3288 - val_acc: 0.5750\n",
      "Epoch 23/50\n",
      "60/60 [==============================] - 21s 342ms/step - loss: 1.4616 - acc: 0.5183 - val_loss: 1.3222 - val_acc: 0.5850\n",
      "Epoch 24/50\n",
      "60/60 [==============================] - 21s 354ms/step - loss: 1.4570 - acc: 0.5267 - val_loss: 1.3415 - val_acc: 0.5767\n",
      "Epoch 25/50\n",
      "60/60 [==============================] - 21s 351ms/step - loss: 1.3586 - acc: 0.5500 - val_loss: 1.3141 - val_acc: 0.5900\n",
      "Epoch 26/50\n",
      "60/60 [==============================] - 22s 363ms/step - loss: 1.3561 - acc: 0.5683 - val_loss: 1.3045 - val_acc: 0.6000\n",
      "Epoch 27/50\n",
      "60/60 [==============================] - 21s 349ms/step - loss: 1.3282 - acc: 0.5783 - val_loss: 1.3611 - val_acc: 0.5750\n",
      "Epoch 28/50\n",
      "60/60 [==============================] - 20s 335ms/step - loss: 1.3417 - acc: 0.5683 - val_loss: 1.2811 - val_acc: 0.6100\n",
      "Epoch 29/50\n",
      "60/60 [==============================] - 21s 354ms/step - loss: 1.4039 - acc: 0.5333 - val_loss: 1.2881 - val_acc: 0.6200\n",
      "Epoch 30/50\n",
      "60/60 [==============================] - 21s 347ms/step - loss: 1.3238 - acc: 0.5817 - val_loss: 1.3867 - val_acc: 0.5567\n",
      "Epoch 31/50\n",
      "60/60 [==============================] - 21s 354ms/step - loss: 1.4007 - acc: 0.5400 - val_loss: 1.2537 - val_acc: 0.6067\n",
      "Epoch 32/50\n",
      "60/60 [==============================] - 21s 346ms/step - loss: 1.3029 - acc: 0.5850 - val_loss: 1.2276 - val_acc: 0.6067\n",
      "Epoch 33/50\n",
      "60/60 [==============================] - 21s 351ms/step - loss: 1.2232 - acc: 0.6133 - val_loss: 1.2952 - val_acc: 0.6017\n",
      "Epoch 34/50\n",
      "60/60 [==============================] - 21s 358ms/step - loss: 1.3639 - acc: 0.5300 - val_loss: 1.2310 - val_acc: 0.6167\n",
      "Epoch 35/50\n",
      "60/60 [==============================] - 21s 346ms/step - loss: 1.2731 - acc: 0.6017 - val_loss: 1.2712 - val_acc: 0.6083\n",
      "Epoch 36/50\n",
      "60/60 [==============================] - 22s 366ms/step - loss: 1.2434 - acc: 0.6100 - val_loss: 1.3035 - val_acc: 0.6033\n",
      "Epoch 37/50\n",
      "60/60 [==============================] - 20s 341ms/step - loss: 1.2595 - acc: 0.6100 - val_loss: 1.2543 - val_acc: 0.6283\n",
      "Epoch 38/50\n",
      "60/60 [==============================] - 22s 360ms/step - loss: 1.3100 - acc: 0.5900 - val_loss: 1.2616 - val_acc: 0.6183\n",
      "Epoch 39/50\n",
      "60/60 [==============================] - 22s 363ms/step - loss: 1.3035 - acc: 0.5650 - val_loss: 1.2666 - val_acc: 0.6050\n",
      "Epoch 40/50\n",
      "60/60 [==============================] - 21s 343ms/step - loss: 1.2598 - acc: 0.5950 - val_loss: 1.2430 - val_acc: 0.6217\n",
      "Epoch 41/50\n",
      "60/60 [==============================] - 22s 363ms/step - loss: 1.2047 - acc: 0.6050 - val_loss: 1.2417 - val_acc: 0.6250\n",
      "Epoch 42/50\n",
      "60/60 [==============================] - 21s 348ms/step - loss: 1.1461 - acc: 0.6500 - val_loss: 1.2504 - val_acc: 0.6033\n",
      "Epoch 43/50\n",
      "60/60 [==============================] - 21s 342ms/step - loss: 1.2447 - acc: 0.6167 - val_loss: 1.2356 - val_acc: 0.6017\n",
      "Epoch 44/50\n",
      "60/60 [==============================] - 21s 346ms/step - loss: 1.2449 - acc: 0.5933 - val_loss: 1.2402 - val_acc: 0.5850\n",
      "Epoch 45/50\n",
      "60/60 [==============================] - 22s 359ms/step - loss: 1.2630 - acc: 0.5883 - val_loss: 1.2265 - val_acc: 0.5900\n",
      "Epoch 46/50\n",
      "60/60 [==============================] - 21s 342ms/step - loss: 1.1496 - acc: 0.6417 - val_loss: 1.1502 - val_acc: 0.6617\n",
      "Epoch 47/50\n",
      "60/60 [==============================] - 22s 364ms/step - loss: 1.2619 - acc: 0.6000 - val_loss: 1.2584 - val_acc: 0.6167\n",
      "Epoch 48/50\n",
      "60/60 [==============================] - 21s 354ms/step - loss: 1.0791 - acc: 0.6533 - val_loss: 1.2207 - val_acc: 0.6400\n",
      "Epoch 49/50\n",
      "60/60 [==============================] - 21s 353ms/step - loss: 1.1524 - acc: 0.6333 - val_loss: 1.2865 - val_acc: 0.6183\n",
      "Epoch 50/50\n",
      "60/60 [==============================] - 22s 368ms/step - loss: 1.2143 - acc: 0.6067 - val_loss: 1.1986 - val_acc: 0.6333\n"
     ]
    }
   ],
   "source": [
    "model.compile(optimizer=optimizers.RMSprop(lr=2e-5),\n",
    "              loss='categorical_crossentropy',\n",
    "              metrics=['acc'])\n",
    "\n",
    "history = model.fit_generator(\n",
    "      train_generator,\n",
    "      steps_per_epoch=60,\n",
    "      epochs=50,\n",
    "      validation_data=validation_generator,\n",
    "      validation_steps=60)"
   ]
  },
  {
   "cell_type": "code",
   "execution_count": 20,
   "metadata": {},
   "outputs": [
    {
     "data": {
      "image/png": "[encoded data removed]",
      "text/plain": [
       "<Figure size 432x288 with 1 Axes>"
      ]
     },
     "metadata": {
      "needs_background": "light"
     },
     "output_type": "display_data"
    },
    {
     "data": {
      "image/png": "[encoded data removed]",
      "text/plain": [
       "<Figure size 432x288 with 1 Axes>"
      ]
     },
     "metadata": {
      "needs_background": "light"
     },
     "output_type": "display_data"
    }
   ],
   "source": [
    "import matplotlib.pyplot as plt\n",
    "\n",
    "acc = history.history['acc']\n",
    "val_acc = history.history['val_acc']\n",
    "loss = history.history['loss']\n",
    "val_loss = history.history['val_loss']\n",
    "\n",
    "epochs = range(len(acc))\n",
    "\n",
    "plt.plot(epochs, acc, 'bo', label='Training acc')\n",
    "plt.plot(epochs, val_acc, 'b', label='Validation acc')\n",
    "plt.title('Training and validation accuracy')\n",
    "plt.legend()\n",
    "\n",
    "plt.figure()\n",
    "\n",
    "plt.plot(epochs, loss, 'bo', label='Training loss')\n",
    "plt.plot(epochs, val_loss, 'b', label='Validation loss')\n",
    "plt.title('Training and validation loss')\n",
    "plt.legend()\n",
    "\n",
    "plt.show()"
   ]
  },
  {
   "cell_type": "code",
   "execution_count": 21,
   "metadata": {},
   "outputs": [],
   "source": [
    "from numba import cuda\n",
    "cuda.select_device(0)\n",
    "cuda.close()"
   ]
  },
  {
   "cell_type": "code",
   "execution_count": null,
   "metadata": {},
   "outputs": [],
   "source": []
  }
 ],
 "metadata": {
  "kernelspec": {
   "display_name": "Python 3",
   "language": "python",
   "name": "python3"
  },
  "language_info": {
   "codemirror_mode": {
    "name": "ipython",
    "version": 3
   },
   "file_extension": ".py",
   "mimetype": "text/x-python",
   "name": "python",
   "nbconvert_exporter": "python",
   "pygments_lexer": "ipython3",
   "version": "3.6.8"
  }
 },
 "nbformat": 4,
 "nbformat_minor": 2
}
