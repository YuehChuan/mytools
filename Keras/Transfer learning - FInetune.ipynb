{
 "cells": [
  {
   "cell_type": "code",
   "execution_count": 1,
   "metadata": {},
   "outputs": [],
   "source": [
    "import os\n",
    "os.environ[\"CUDA_DEVICE_ORDER\"]=\"PCI_BUS_ID\"\n",
    "os.environ[\"CUDA_VISIBLE_DEVICES\"] = \"1\"  #use 2080Ti\n"
   ]
  },
  {
   "cell_type": "code",
   "execution_count": 35,
   "metadata": {},
   "outputs": [],
   "source": [
    "base_dir = 'dataset-diabnext'\n",
    "\n",
    "train_dir = os.path.join(base_dir, 'train')\n",
    "validation_dir = os.path.join(base_dir, 'valid')\n",
    "test_dir = os.path.join(base_dir, 'test')"
   ]
  },
  {
   "cell_type": "code",
   "execution_count": 36,
   "metadata": {},
   "outputs": [
    {
     "name": "stdout",
     "output_type": "stream",
     "text": [
      "Found 1140 images belonging to 10 classes.\n",
      "Found 370 images belonging to 10 classes.\n",
      "Found 370 images belonging to 10 classes.\n"
     ]
    }
   ],
   "source": [
    "from keras.preprocessing.image import ImageDataGenerator\n",
    "from keras import optimizers\n",
    "\n",
    "# All images will be rescaled by 1./255\n",
    "train_datagen = ImageDataGenerator(\n",
    "        rescale=1./255,\n",
    "        rotation_range = 30,\n",
    "        width_shift_range = 0.3,\n",
    "        height_shift_range = 0.3,\n",
    "        shear_range = 0.3,\n",
    "        zoom_range = 0.4,\n",
    "        channel_shift_range = 0.2,\n",
    "        fill_mode = 'nearest',\n",
    "        horizontal_flip = True,\n",
    "        vertical_flip = False,    \n",
    ")\n",
    "test_datagen = ImageDataGenerator(\n",
    "        rescale=1./255,\n",
    "        rotation_range = 30,\n",
    "        width_shift_range = 0.3,\n",
    "        height_shift_range = 0.3,\n",
    "        shear_range = 0.3,\n",
    "        zoom_range = 0.4,\n",
    "        channel_shift_range = 0.2,\n",
    "        fill_mode = 'nearest',\n",
    "        horizontal_flip = True,\n",
    "        vertical_flip = False,  \n",
    ")\n",
    "\n",
    "\n",
    "train_generator = train_datagen.flow_from_directory(\n",
    "        # This is the target directory\n",
    "        train_dir,\n",
    "        # All images will be resized to 150x150\n",
    "        target_size=(224, 224),\n",
    "        batch_size=10,\n",
    "        class_mode='categorical')\n",
    "\n",
    "validation_generator = test_datagen.flow_from_directory(\n",
    "        validation_dir,\n",
    "        target_size=(224, 224),\n",
    "        batch_size=10,  \n",
    "        class_mode='categorical')\n",
    "\n",
    "test_generator = test_datagen.flow_from_directory(\n",
    "        # This is the target directory\n",
    "        test_dir,\n",
    "        # All images will be resized to 150x150\n",
    "        target_size=(224, 224),\n",
    "        batch_size=10,\n",
    "        class_mode='categorical')"
   ]
  },
  {
   "cell_type": "code",
   "execution_count": 37,
   "metadata": {},
   "outputs": [
    {
     "name": "stdout",
     "output_type": "stream",
     "text": [
      "_________________________________________________________________\n",
      "Layer (type)                 Output Shape              Param #   \n",
      "=================================================================\n",
      "input_2 (InputLayer)         (None, 224, 224, 3)       0         \n",
      "_________________________________________________________________\n",
      "block1_conv1 (Conv2D)        (None, 224, 224, 64)      1792      \n",
      "_________________________________________________________________\n",
      "block1_conv2 (Conv2D)        (None, 224, 224, 64)      36928     \n",
      "_________________________________________________________________\n",
      "block1_pool (MaxPooling2D)   (None, 112, 112, 64)      0         \n",
      "_________________________________________________________________\n",
      "block2_conv1 (Conv2D)        (None, 112, 112, 128)     73856     \n",
      "_________________________________________________________________\n",
      "block2_conv2 (Conv2D)        (None, 112, 112, 128)     147584    \n",
      "_________________________________________________________________\n",
      "block2_pool (MaxPooling2D)   (None, 56, 56, 128)       0         \n",
      "_________________________________________________________________\n",
      "block3_conv1 (Conv2D)        (None, 56, 56, 256)       295168    \n",
      "_________________________________________________________________\n",
      "block3_conv2 (Conv2D)        (None, 56, 56, 256)       590080    \n",
      "_________________________________________________________________\n",
      "block3_conv3 (Conv2D)        (None, 56, 56, 256)       590080    \n",
      "_________________________________________________________________\n",
      "block3_pool (MaxPooling2D)   (None, 28, 28, 256)       0         \n",
      "_________________________________________________________________\n",
      "block4_conv1 (Conv2D)        (None, 28, 28, 512)       1180160   \n",
      "_________________________________________________________________\n",
      "block4_conv2 (Conv2D)        (None, 28, 28, 512)       2359808   \n",
      "_________________________________________________________________\n",
      "block4_conv3 (Conv2D)        (None, 28, 28, 512)       2359808   \n",
      "_________________________________________________________________\n",
      "block4_pool (MaxPooling2D)   (None, 14, 14, 512)       0         \n",
      "_________________________________________________________________\n",
      "block5_conv1 (Conv2D)        (None, 14, 14, 512)       2359808   \n",
      "_________________________________________________________________\n",
      "block5_conv2 (Conv2D)        (None, 14, 14, 512)       2359808   \n",
      "_________________________________________________________________\n",
      "block5_conv3 (Conv2D)        (None, 14, 14, 512)       2359808   \n",
      "_________________________________________________________________\n",
      "block5_pool (MaxPooling2D)   (None, 7, 7, 512)         0         \n",
      "=================================================================\n",
      "Total params: 14,714,688\n",
      "Trainable params: 14,714,688\n",
      "Non-trainable params: 0\n",
      "_________________________________________________________________\n"
     ]
    }
   ],
   "source": [
    "from keras.applications import VGG16\n",
    "from keras import models\n",
    "from keras import layers\n",
    "from keras.layers.normalization import BatchNormalization\n",
    "\n",
    "\n",
    "cnn_base = VGG16(weights='imagenet',\n",
    "                  include_top=False,\n",
    "                  input_shape=(224, 224, 3))\n",
    "\n",
    "cnn_base.summary()\n"
   ]
  },
  {
   "cell_type": "code",
   "execution_count": 38,
   "metadata": {},
   "outputs": [],
   "source": [
    "'''\n",
    "cnn_base.trainable = True\n",
    "\n",
    "set_trainable = False\n",
    "for layer in cnn_base.layers:\n",
    "    if layer.name == 'block5_conv1':\n",
    "        set_trainable = True\n",
    "    if set_trainable:\n",
    "        layer.trainable = True\n",
    "    else:\n",
    "        layer.trainable = False\n",
    "'''\n",
    "cnn_base.trainable = True\n",
    "\n",
    "for layer in cnn_base.layers:\n",
    "    #layer.trainable = False\n",
    "    #if layer.name in ('block5_conv1', 'block5_conv2', 'block5_conv3'):\n",
    "    if layer.name in ('block1_conv1'):\n",
    "    #if layer.name in ('block5_conv1', 'block5_conv2'):\n",
    "        layer.trainable = True\n",
    "    else:\n",
    "        layer.trainable = False\n",
    "     "
   ]
  },
  {
   "cell_type": "code",
   "execution_count": 39,
   "metadata": {},
   "outputs": [],
   "source": [
    "classify = models.Sequential()\n",
    "classify.add(BatchNormalization())\n",
    "classify.add(layers.Flatten())\n",
    "classify.add(layers.Dense(512, activation='relu'))\n",
    "classify.add(layers.Dropout(0.5))\n",
    "classify.add(layers.Dense(10, activation='sigmoid'))"
   ]
  },
  {
   "cell_type": "code",
   "execution_count": 40,
   "metadata": {},
   "outputs": [
    {
     "name": "stdout",
     "output_type": "stream",
     "text": [
      "_________________________________________________________________\n",
      "Layer (type)                 Output Shape              Param #   \n",
      "=================================================================\n",
      "input_2 (InputLayer)         (None, 224, 224, 3)       0         \n",
      "_________________________________________________________________\n",
      "block1_conv1 (Conv2D)        (None, 224, 224, 64)      1792      \n",
      "_________________________________________________________________\n",
      "block1_conv2 (Conv2D)        (None, 224, 224, 64)      36928     \n",
      "_________________________________________________________________\n",
      "block1_pool (MaxPooling2D)   (None, 112, 112, 64)      0         \n",
      "_________________________________________________________________\n",
      "block2_conv1 (Conv2D)        (None, 112, 112, 128)     73856     \n",
      "_________________________________________________________________\n",
      "block2_conv2 (Conv2D)        (None, 112, 112, 128)     147584    \n",
      "_________________________________________________________________\n",
      "block2_pool (MaxPooling2D)   (None, 56, 56, 128)       0         \n",
      "_________________________________________________________________\n",
      "block3_conv1 (Conv2D)        (None, 56, 56, 256)       295168    \n",
      "_________________________________________________________________\n",
      "block3_conv2 (Conv2D)        (None, 56, 56, 256)       590080    \n",
      "_________________________________________________________________\n",
      "block3_conv3 (Conv2D)        (None, 56, 56, 256)       590080    \n",
      "_________________________________________________________________\n",
      "block3_pool (MaxPooling2D)   (None, 28, 28, 256)       0         \n",
      "_________________________________________________________________\n",
      "block4_conv1 (Conv2D)        (None, 28, 28, 512)       1180160   \n",
      "_________________________________________________________________\n",
      "block4_conv2 (Conv2D)        (None, 28, 28, 512)       2359808   \n",
      "_________________________________________________________________\n",
      "block4_conv3 (Conv2D)        (None, 28, 28, 512)       2359808   \n",
      "_________________________________________________________________\n",
      "block4_pool (MaxPooling2D)   (None, 14, 14, 512)       0         \n",
      "_________________________________________________________________\n",
      "block5_conv1 (Conv2D)        (None, 14, 14, 512)       2359808   \n",
      "_________________________________________________________________\n",
      "block5_conv2 (Conv2D)        (None, 14, 14, 512)       2359808   \n",
      "_________________________________________________________________\n",
      "block5_conv3 (Conv2D)        (None, 14, 14, 512)       2359808   \n",
      "_________________________________________________________________\n",
      "block5_pool (MaxPooling2D)   (None, 7, 7, 512)         0         \n",
      "=================================================================\n",
      "Total params: 14,714,688\n",
      "Trainable params: 1,792\n",
      "Non-trainable params: 14,712,896\n",
      "_________________________________________________________________\n",
      "_________________________________________________________________\n",
      "Layer (type)                 Output Shape              Param #   \n",
      "=================================================================\n",
      "batch_normalization_6 (Batch (None, 7, 7, 512)         2048      \n",
      "_________________________________________________________________\n",
      "flatten_6 (Flatten)          (None, 25088)             0         \n",
      "_________________________________________________________________\n",
      "dense_11 (Dense)             (None, 512)               12845568  \n",
      "_________________________________________________________________\n",
      "dropout_6 (Dropout)          (None, 512)               0         \n",
      "_________________________________________________________________\n",
      "dense_12 (Dense)             (None, 10)                5130      \n",
      "=================================================================\n",
      "Total params: 12,852,746\n",
      "Trainable params: 12,851,722\n",
      "Non-trainable params: 1,024\n",
      "_________________________________________________________________\n",
      "_________________________________________________________________\n",
      "Layer (type)                 Output Shape              Param #   \n",
      "=================================================================\n",
      "vgg16 (Model)                (None, 7, 7, 512)         14714688  \n",
      "_________________________________________________________________\n",
      "sequential_11 (Sequential)   (None, 10)                12852746  \n",
      "=================================================================\n",
      "Total params: 27,567,434\n",
      "Trainable params: 12,853,514\n",
      "Non-trainable params: 14,713,920\n",
      "_________________________________________________________________\n"
     ]
    }
   ],
   "source": [
    "model = models.Sequential()\n",
    "model.add(cnn_base)\n",
    "model.add(classify)\n",
    "cnn_base.summary()\n",
    "classify.summary()\n",
    "model.summary()"
   ]
  },
  {
   "cell_type": "code",
   "execution_count": 41,
   "metadata": {
    "scrolled": true
   },
   "outputs": [
    {
     "name": "stdout",
     "output_type": "stream",
     "text": [
      "Epoch 1/50\n",
      "21/50 [===========>..................] - ETA: 7s - loss: 2.4669 - acc: 0.1286"
     ]
    },
    {
     "name": "stderr",
     "output_type": "stream",
     "text": [
      "/home/chtseng/envs/AI/lib/python3.6/site-packages/PIL/Image.py:993: UserWarning: Palette images with Transparency expressed in bytes should be converted to RGBA images\n",
      "  \"Palette images with Transparency expressed in bytes should be \"\n"
     ]
    },
    {
     "name": "stdout",
     "output_type": "stream",
     "text": [
      "50/50 [==============================] - 13s 255ms/step - loss: 2.4864 - acc: 0.1240 - val_loss: 2.3680 - val_acc: 0.1400\n",
      "Epoch 2/50\n",
      "50/50 [==============================] - 10s 195ms/step - loss: 2.3510 - acc: 0.1440 - val_loss: 2.1853 - val_acc: 0.2200\n",
      "Epoch 3/50\n",
      " 9/50 [====>.........................] - ETA: 8s - loss: 2.4754 - acc: 0.1000"
     ]
    },
    {
     "name": "stderr",
     "output_type": "stream",
     "text": [
      "/home/chtseng/envs/AI/lib/python3.6/site-packages/PIL/TiffImagePlugin.py:804: UserWarning: Corrupt EXIF data.  Expecting to read 4 bytes but only got 0. \n",
      "  warnings.warn(str(msg))\n"
     ]
    },
    {
     "name": "stdout",
     "output_type": "stream",
     "text": [
      "50/50 [==============================] - 11s 227ms/step - loss: 2.3092 - acc: 0.1640 - val_loss: 2.1484 - val_acc: 0.2600\n",
      "Epoch 4/50\n",
      "50/50 [==============================] - 11s 219ms/step - loss: 2.1907 - acc: 0.2080 - val_loss: 2.1069 - val_acc: 0.2300\n",
      "Epoch 5/50\n",
      "50/50 [==============================] - 11s 210ms/step - loss: 2.1954 - acc: 0.2100 - val_loss: 2.0636 - val_acc: 0.3100\n",
      "Epoch 6/50\n",
      "50/50 [==============================] - 12s 232ms/step - loss: 2.1241 - acc: 0.2520 - val_loss: 2.0134 - val_acc: 0.3300\n",
      "Epoch 7/50\n",
      "50/50 [==============================] - 11s 217ms/step - loss: 2.0825 - acc: 0.3020 - val_loss: 1.9653 - val_acc: 0.3400\n",
      "Epoch 8/50\n",
      "50/50 [==============================] - 12s 232ms/step - loss: 2.0741 - acc: 0.2880 - val_loss: 1.9347 - val_acc: 0.3700\n",
      "Epoch 9/50\n",
      "50/50 [==============================] - 11s 219ms/step - loss: 2.1187 - acc: 0.2720 - val_loss: 1.8617 - val_acc: 0.4700\n",
      "Epoch 10/50\n",
      "50/50 [==============================] - 12s 236ms/step - loss: 1.9795 - acc: 0.3140 - val_loss: 1.9052 - val_acc: 0.3400\n",
      "Epoch 11/50\n",
      "50/50 [==============================] - 11s 213ms/step - loss: 1.9851 - acc: 0.3380 - val_loss: 1.7774 - val_acc: 0.5400\n",
      "Epoch 12/50\n",
      "50/50 [==============================] - 11s 222ms/step - loss: 1.8718 - acc: 0.3720 - val_loss: 1.8347 - val_acc: 0.4300\n",
      "Epoch 13/50\n",
      "50/50 [==============================] - 11s 215ms/step - loss: 1.9220 - acc: 0.3920 - val_loss: 1.7386 - val_acc: 0.4400\n",
      "Epoch 14/50\n",
      "50/50 [==============================] - 11s 221ms/step - loss: 1.8783 - acc: 0.3860 - val_loss: 1.8931 - val_acc: 0.4200\n",
      "Epoch 15/50\n",
      "50/50 [==============================] - 12s 245ms/step - loss: 1.8138 - acc: 0.4000 - val_loss: 1.6668 - val_acc: 0.4600\n",
      "Epoch 16/50\n",
      "50/50 [==============================] - 10s 206ms/step - loss: 1.8398 - acc: 0.3560 - val_loss: 1.6828 - val_acc: 0.3900\n",
      "Epoch 17/50\n",
      "50/50 [==============================] - 10s 203ms/step - loss: 1.7371 - acc: 0.4180 - val_loss: 1.6810 - val_acc: 0.4600\n",
      "Epoch 18/50\n",
      "50/50 [==============================] - 12s 239ms/step - loss: 1.7623 - acc: 0.4300 - val_loss: 1.6327 - val_acc: 0.5300\n",
      "Epoch 19/50\n",
      "50/50 [==============================] - 13s 256ms/step - loss: 1.7131 - acc: 0.4200 - val_loss: 1.5575 - val_acc: 0.5200\n",
      "Epoch 20/50\n",
      "50/50 [==============================] - 10s 200ms/step - loss: 1.7290 - acc: 0.3940 - val_loss: 1.5788 - val_acc: 0.5500\n",
      "Epoch 21/50\n",
      "50/50 [==============================] - 10s 206ms/step - loss: 1.6509 - acc: 0.4600 - val_loss: 1.7598 - val_acc: 0.4800\n",
      "Epoch 22/50\n",
      "50/50 [==============================] - 12s 247ms/step - loss: 1.6880 - acc: 0.4440 - val_loss: 1.5285 - val_acc: 0.4900\n",
      "Epoch 23/50\n",
      "50/50 [==============================] - 10s 207ms/step - loss: 1.7271 - acc: 0.4260 - val_loss: 1.6130 - val_acc: 0.5200\n",
      "Epoch 24/50\n",
      "50/50 [==============================] - 11s 217ms/step - loss: 1.6474 - acc: 0.4620 - val_loss: 1.4857 - val_acc: 0.5900\n",
      "Epoch 25/50\n",
      "50/50 [==============================] - 11s 228ms/step - loss: 1.6331 - acc: 0.4600 - val_loss: 1.6574 - val_acc: 0.5000\n",
      "Epoch 26/50\n",
      "50/50 [==============================] - 12s 231ms/step - loss: 1.6589 - acc: 0.4480 - val_loss: 1.4317 - val_acc: 0.5900\n",
      "Epoch 27/50\n",
      "50/50 [==============================] - 11s 225ms/step - loss: 1.6517 - acc: 0.4660 - val_loss: 1.2867 - val_acc: 0.6100\n",
      "Epoch 28/50\n",
      "50/50 [==============================] - 11s 221ms/step - loss: 1.6538 - acc: 0.4620 - val_loss: 1.4989 - val_acc: 0.5700\n",
      "Epoch 29/50\n",
      "50/50 [==============================] - 11s 210ms/step - loss: 1.6225 - acc: 0.4420 - val_loss: 1.5006 - val_acc: 0.5300\n",
      "Epoch 30/50\n",
      "50/50 [==============================] - 11s 224ms/step - loss: 1.5511 - acc: 0.4800 - val_loss: 1.3869 - val_acc: 0.5800\n",
      "Epoch 31/50\n",
      "50/50 [==============================] - 12s 235ms/step - loss: 1.5240 - acc: 0.4700 - val_loss: 1.4778 - val_acc: 0.4800\n",
      "Epoch 32/50\n",
      "50/50 [==============================] - 10s 207ms/step - loss: 1.5548 - acc: 0.5240 - val_loss: 1.5068 - val_acc: 0.5400\n",
      "Epoch 33/50\n",
      "50/50 [==============================] - 11s 228ms/step - loss: 1.6143 - acc: 0.4740 - val_loss: 1.3006 - val_acc: 0.6100\n",
      "Epoch 34/50\n",
      "50/50 [==============================] - 11s 226ms/step - loss: 1.5131 - acc: 0.5340 - val_loss: 1.5119 - val_acc: 0.4700\n",
      "Epoch 35/50\n",
      "50/50 [==============================] - 11s 221ms/step - loss: 1.4455 - acc: 0.5300 - val_loss: 1.3261 - val_acc: 0.6300\n",
      "Epoch 36/50\n",
      "50/50 [==============================] - 11s 229ms/step - loss: 1.4653 - acc: 0.5240 - val_loss: 1.3207 - val_acc: 0.5700\n",
      "Epoch 37/50\n",
      "50/50 [==============================] - 11s 212ms/step - loss: 1.4386 - acc: 0.5100 - val_loss: 1.2559 - val_acc: 0.6000\n",
      "Epoch 38/50\n",
      "50/50 [==============================] - 11s 219ms/step - loss: 1.5259 - acc: 0.4980 - val_loss: 1.3118 - val_acc: 0.6500\n",
      "Epoch 39/50\n",
      "50/50 [==============================] - 11s 226ms/step - loss: 1.4706 - acc: 0.4780 - val_loss: 1.6151 - val_acc: 0.4500\n",
      "Epoch 40/50\n",
      "50/50 [==============================] - 11s 225ms/step - loss: 1.3825 - acc: 0.5200 - val_loss: 1.3432 - val_acc: 0.5500\n",
      "Epoch 41/50\n",
      "50/50 [==============================] - 11s 223ms/step - loss: 1.4445 - acc: 0.5540 - val_loss: 1.2967 - val_acc: 0.5600\n",
      "Epoch 42/50\n",
      "50/50 [==============================] - 12s 231ms/step - loss: 1.4695 - acc: 0.5120 - val_loss: 1.2791 - val_acc: 0.5800\n",
      "Epoch 43/50\n",
      "50/50 [==============================] - 10s 208ms/step - loss: 1.4663 - acc: 0.5100 - val_loss: 1.1876 - val_acc: 0.6000\n",
      "Epoch 44/50\n",
      "50/50 [==============================] - 11s 229ms/step - loss: 1.5052 - acc: 0.5140 - val_loss: 1.2010 - val_acc: 0.6600\n",
      "Epoch 45/50\n",
      "50/50 [==============================] - 11s 224ms/step - loss: 1.3222 - acc: 0.5300 - val_loss: 1.3836 - val_acc: 0.6000\n",
      "Epoch 46/50\n",
      "50/50 [==============================] - 12s 234ms/step - loss: 1.4344 - acc: 0.5620 - val_loss: 1.1928 - val_acc: 0.6200\n",
      "Epoch 47/50\n",
      "50/50 [==============================] - 11s 212ms/step - loss: 1.4050 - acc: 0.5400 - val_loss: 1.4426 - val_acc: 0.5500\n",
      "Epoch 48/50\n",
      "50/50 [==============================] - 11s 220ms/step - loss: 1.4754 - acc: 0.5080 - val_loss: 1.3238 - val_acc: 0.6000\n",
      "Epoch 49/50\n",
      "50/50 [==============================] - 10s 198ms/step - loss: 1.3763 - acc: 0.5480 - val_loss: 1.4053 - val_acc: 0.5500\n",
      "Epoch 50/50\n",
      "50/50 [==============================] - 12s 243ms/step - loss: 1.4448 - acc: 0.5500 - val_loss: 1.3241 - val_acc: 0.6100\n"
     ]
    }
   ],
   "source": [
    "model.compile(loss='categorical_crossentropy',\n",
    "              optimizer=optimizers.RMSprop(lr=1e-5),\n",
    "              metrics=['acc'])\n",
    "\n",
    "history = model.fit_generator(\n",
    "      train_generator,\n",
    "      steps_per_epoch=50,\n",
    "      epochs=50,\n",
    "      validation_data=validation_generator,\n",
    "      validation_steps=10)"
   ]
  },
  {
   "cell_type": "code",
   "execution_count": 42,
   "metadata": {},
   "outputs": [
    {
     "name": "stdout",
     "output_type": "stream",
     "text": [
      "test_acc: 0.6200000047683716\n"
     ]
    }
   ],
   "source": [
    "test_loss, test_acc = model.evaluate_generator(test_generator, steps=15)\n",
    "print(\"test_acc:\", test_acc)"
   ]
  },
  {
   "cell_type": "code",
   "execution_count": 43,
   "metadata": {},
   "outputs": [
    {
     "data": {
      "image/png": "[encoded data removed]",
      "text/plain": [
       "<Figure size 432x288 with 1 Axes>"
      ]
     },
     "metadata": {
      "needs_background": "light"
     },
     "output_type": "display_data"
    },
    {
     "data": {
      "image/png": "[encoded data removed]",
      "text/plain": [
       "<Figure size 432x288 with 1 Axes>"
      ]
     },
     "metadata": {
      "needs_background": "light"
     },
     "output_type": "display_data"
    }
   ],
   "source": [
    "import matplotlib.pyplot as plt\n",
    "\n",
    "acc = history.history['acc']\n",
    "val_acc = history.history['val_acc']\n",
    "loss = history.history['loss']\n",
    "val_loss = history.history['val_loss']\n",
    "\n",
    "epochs = range(len(acc))\n",
    "\n",
    "plt.plot(epochs, acc, 'bo', label='Training acc')\n",
    "plt.plot(epochs, val_acc, 'b', label='Validation acc')\n",
    "plt.title('Training and validation accuracy')\n",
    "plt.legend()\n",
    "\n",
    "plt.figure()\n",
    "\n",
    "plt.plot(epochs, loss, 'bo', label='Training loss')\n",
    "plt.plot(epochs, val_loss, 'b', label='Validation loss')\n",
    "plt.title('Training and validation loss')\n",
    "plt.legend()\n",
    "\n",
    "plt.show()"
   ]
  },
  {
   "cell_type": "code",
   "execution_count": 15,
   "metadata": {},
   "outputs": [],
   "source": [
    "from numba import cuda\n",
    "cuda.select_device(0)\n",
    "cuda.close()"
   ]
  },
  {
   "cell_type": "code",
   "execution_count": null,
   "metadata": {},
   "outputs": [],
   "source": []
  }
 ],
 "metadata": {
  "kernelspec": {
   "display_name": "Python 3",
   "language": "python",
   "name": "python3"
  },
  "language_info": {
   "codemirror_mode": {
    "name": "ipython",
    "version": 3
   },
   "file_extension": ".py",
   "mimetype": "text/x-python",
   "name": "python",
   "nbconvert_exporter": "python",
   "pygments_lexer": "ipython3",
   "version": "3.6.8"
  }
 },
 "nbformat": 4,
 "nbformat_minor": 2
}
